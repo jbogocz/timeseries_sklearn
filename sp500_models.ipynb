{
 "metadata": {
  "language_info": {
   "codemirror_mode": {
    "name": "ipython",
    "version": 3
   },
   "file_extension": ".py",
   "mimetype": "text/x-python",
   "name": "python",
   "nbconvert_exporter": "python",
   "pygments_lexer": "ipython3",
   "version": "3.7.8-final"
  },
  "orig_nbformat": 2,
  "kernelspec": {
   "name": "python_defaultSpec_1601844778323",
   "display_name": "Python 3.7.8 64-bit ('py3.7': conda)"
  }
 },
 "nbformat": 4,
 "nbformat_minor": 2,
 "cells": [
  {
   "cell_type": "code",
   "execution_count": 1,
   "metadata": {},
   "outputs": [],
   "source": [
    "# System\n",
    "import os\n",
    "# Numpy\n",
    "import numpy as np\n",
    "# Dataframe\n",
    "import pandas as pd\n",
    "# Type hints\n",
    "from typing import Union\n",
    "# Plotting\n",
    "import seaborn as sns\n",
    "import matplotlib.pyplot as plt\n",
    "import matplotlib.ticker as plticker\n",
    "# Datetime\n",
    "import datetime as dt \n",
    "# Technical analysis tool\n",
    "import talib\n",
    "# Get market data\n",
    "import pandas_datareader.data as web\n",
    "# Statistics\n",
    "from scipy import stats\n",
    "from statsmodels.graphics.tsaplots import plot_acf, plot_pacf\n",
    "from statsmodels.graphics.gofplots import qqplot\n",
    "# Base classes for estimators\n",
    "from sklearn.base import (BaseEstimator, TransformerMixin,\n",
    "                          ClassifierMixin, RegressorMixin)\n",
    "# Cross-validation\n",
    "from sklearn.model_selection import TimeSeriesSplit, GridSearchCV, cross_validate\n",
    "# Preprocessing\n",
    "from sklearn.preprocessing import StandardScaler, QuantileTransformer, quantile_transform\n",
    "from sklearn.decomposition import PCA\n",
    "# Transformers\n",
    "from sklearn.compose import make_column_transformer\n",
    "# Pipeline\n",
    "from sklearn.pipeline import Pipeline, make_pipeline\n",
    "# Feature selection\n",
    "from sklearn.feature_selection import f_regression, SelectKBest\n",
    "# Models\n",
    "from sklearn.linear_model import Ridge\n",
    "from sklearn.ensemble import (RandomForestRegressor, ExtraTreesRegressor,\n",
    "                              VotingRegressor, GradientBoostingRegressor)\n",
    "from sklearn.neighbors import KNeighborsRegressor\n",
    "from sklearn.svm import SVR\n",
    "import xgboost as xgb\n",
    "# Metrics\n",
    "from sklearn.metrics import (make_scorer, \n",
    "            mean_squared_error, mean_absolute_error, r2_score)"
   ]
  },
  {
   "cell_type": "code",
   "execution_count": null,
   "metadata": {},
   "outputs": [],
   "source": []
  }
 ]
}